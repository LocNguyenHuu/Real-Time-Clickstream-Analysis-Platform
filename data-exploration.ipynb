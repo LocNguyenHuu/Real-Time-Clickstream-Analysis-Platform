{
 "cells": [
  {
   "cell_type": "code",
   "execution_count": 1,
   "metadata": {
    "collapsed": false
   },
   "outputs": [],
   "source": [
    "import pandas as pd"
   ]
  },
  {
   "cell_type": "code",
   "execution_count": null,
   "metadata": {
    "collapsed": false
   },
   "outputs": [],
   "source": [
    "df = pd.read_csv('2015_02_clickstream.tsv', sep='\\t', header=0)"
   ]
  },
  {
   "cell_type": "code",
   "execution_count": null,
   "metadata": {
    "collapsed": true
   },
   "outputs": [],
   "source": [
    "df = df[['prev_title', 'curr_title', 'n', 'type']]\n",
    "df.columns = ['prev', 'curr', 'n', 'type']"
   ]
  },
  {
   "cell_type": "code",
   "execution_count": null,
   "metadata": {
    "collapsed": false
   },
   "outputs": [],
   "source": [
    "df.head()"
   ]
  },
  {
   "cell_type": "code",
   "execution_count": null,
   "metadata": {
    "collapsed": false
   },
   "outputs": [],
   "source": [
    "df.shape"
   ]
  },
  {
   "cell_type": "code",
   "execution_count": null,
   "metadata": {
    "collapsed": true
   },
   "outputs": [],
   "source": []
  },
  {
   "cell_type": "code",
   "execution_count": 5,
   "metadata": {
    "collapsed": false
   },
   "outputs": [
    {
     "data": {
      "text/html": [
       "<div style=\"max-height:1000px;max-width:1500px;overflow:auto;\">\n",
       "<table border=\"1\" class=\"dataframe\">\n",
       "  <thead>\n",
       "    <tr style=\"text-align: right;\">\n",
       "      <th></th>\n",
       "      <th>n</th>\n",
       "    </tr>\n",
       "    <tr>\n",
       "      <th>curr</th>\n",
       "      <th></th>\n",
       "    </tr>\n",
       "  </thead>\n",
       "  <tbody>\n",
       "    <tr>\n",
       "      <th>Main_Page</th>\n",
       "      <td> 127500620</td>\n",
       "    </tr>\n",
       "    <tr>\n",
       "      <th>87th_Academy_Awards</th>\n",
       "      <td>   2559794</td>\n",
       "    </tr>\n",
       "    <tr>\n",
       "      <th>Fifty_Shades_of_Grey</th>\n",
       "      <td>   2326175</td>\n",
       "    </tr>\n",
       "    <tr>\n",
       "      <th>Alive</th>\n",
       "      <td>   2244781</td>\n",
       "    </tr>\n",
       "    <tr>\n",
       "      <th>Chris_Kyle</th>\n",
       "      <td>   1709341</td>\n",
       "    </tr>\n",
       "    <tr>\n",
       "      <th>Fifty_Shades_of_Grey_(film)</th>\n",
       "      <td>   1683892</td>\n",
       "    </tr>\n",
       "    <tr>\n",
       "      <th>Deaths_in_2015</th>\n",
       "      <td>   1614577</td>\n",
       "    </tr>\n",
       "    <tr>\n",
       "      <th>Birdman_(film)</th>\n",
       "      <td>   1545842</td>\n",
       "    </tr>\n",
       "    <tr>\n",
       "      <th>Islamic_State_of_Iraq_and_the_Levant</th>\n",
       "      <td>   1406530</td>\n",
       "    </tr>\n",
       "    <tr>\n",
       "      <th>Stephen_Hawking</th>\n",
       "      <td>   1384193</td>\n",
       "    </tr>\n",
       "  </tbody>\n",
       "</table>\n",
       "<p>10 rows × 1 columns</p>\n",
       "</div>"
      ],
      "text/plain": [
       "                                              n\n",
       "curr                                           \n",
       "Main_Page                             127500620\n",
       "87th_Academy_Awards                     2559794\n",
       "Fifty_Shades_of_Grey                    2326175\n",
       "Alive                                   2244781\n",
       "Chris_Kyle                              1709341\n",
       "Fifty_Shades_of_Grey_(film)             1683892\n",
       "Deaths_in_2015                          1614577\n",
       "Birdman_(film)                          1545842\n",
       "Islamic_State_of_Iraq_and_the_Levant    1406530\n",
       "Stephen_Hawking                         1384193\n",
       "\n",
       "[10 rows x 1 columns]"
      ]
     },
     "execution_count": 5,
     "metadata": {},
     "output_type": "execute_result"
    }
   ],
   "source": [
    "df.groupby('curr').sum().sort('n', ascending=False)[:10]"
   ]
  },
  {
   "cell_type": "code",
   "execution_count": 6,
   "metadata": {
    "collapsed": false
   },
   "outputs": [
    {
     "data": {
      "text/html": [
       "<div style=\"max-height:1000px;max-width:1500px;overflow:auto;\">\n",
       "<table border=\"1\" class=\"dataframe\">\n",
       "  <thead>\n",
       "    <tr style=\"text-align: right;\">\n",
       "      <th></th>\n",
       "      <th>n</th>\n",
       "    </tr>\n",
       "    <tr>\n",
       "      <th>prev</th>\n",
       "      <th></th>\n",
       "    </tr>\n",
       "  </thead>\n",
       "  <tbody>\n",
       "    <tr>\n",
       "      <th>other-google</th>\n",
       "      <td> 1494662520</td>\n",
       "    </tr>\n",
       "    <tr>\n",
       "      <th>other-empty</th>\n",
       "      <td>  347424627</td>\n",
       "    </tr>\n",
       "    <tr>\n",
       "      <th>other-wikipedia</th>\n",
       "      <td>  129619543</td>\n",
       "    </tr>\n",
       "    <tr>\n",
       "      <th>other-other</th>\n",
       "      <td>   77496915</td>\n",
       "    </tr>\n",
       "    <tr>\n",
       "      <th>other-bing</th>\n",
       "      <td>   65895496</td>\n",
       "    </tr>\n",
       "    <tr>\n",
       "      <th>other-yahoo</th>\n",
       "      <td>   48445941</td>\n",
       "    </tr>\n",
       "    <tr>\n",
       "      <th>Main_Page</th>\n",
       "      <td>   29897807</td>\n",
       "    </tr>\n",
       "    <tr>\n",
       "      <th>other-twitter</th>\n",
       "      <td>   19222486</td>\n",
       "    </tr>\n",
       "    <tr>\n",
       "      <th>other-facebook</th>\n",
       "      <td>    2312328</td>\n",
       "    </tr>\n",
       "    <tr>\n",
       "      <th>87th_Academy_Awards</th>\n",
       "      <td>    1680559</td>\n",
       "    </tr>\n",
       "  </tbody>\n",
       "</table>\n",
       "<p>10 rows × 1 columns</p>\n",
       "</div>"
      ],
      "text/plain": [
       "                              n\n",
       "prev                           \n",
       "other-google         1494662520\n",
       "other-empty           347424627\n",
       "other-wikipedia       129619543\n",
       "other-other            77496915\n",
       "other-bing             65895496\n",
       "other-yahoo            48445941\n",
       "Main_Page              29897807\n",
       "other-twitter          19222486\n",
       "other-facebook          2312328\n",
       "87th_Academy_Awards     1680559\n",
       "\n",
       "[10 rows x 1 columns]"
      ]
     },
     "execution_count": 6,
     "metadata": {},
     "output_type": "execute_result"
    }
   ],
   "source": [
    "df.groupby('prev').sum().sort('n', ascending=False)[:10]"
   ]
  },
  {
   "cell_type": "code",
   "execution_count": 8,
   "metadata": {
    "collapsed": false
   },
   "outputs": [
    {
     "data": {
      "text/html": [
       "<div style=\"max-height:1000px;max-width:1500px;overflow:auto;\">\n",
       "<table border=\"1\" class=\"dataframe\">\n",
       "  <thead>\n",
       "    <tr style=\"text-align: right;\">\n",
       "      <th></th>\n",
       "      <th>n</th>\n",
       "    </tr>\n",
       "    <tr>\n",
       "      <th>curr</th>\n",
       "      <th></th>\n",
       "    </tr>\n",
       "  </thead>\n",
       "  <tbody>\n",
       "    <tr>\n",
       "      <th>Johnny_Knoxville</th>\n",
       "      <td> 198908</td>\n",
       "    </tr>\n",
       "    <tr>\n",
       "      <th>Peter_Woodcock</th>\n",
       "      <td> 126259</td>\n",
       "    </tr>\n",
       "    <tr>\n",
       "      <th>2002_Tampa_plane_crash</th>\n",
       "      <td> 119906</td>\n",
       "    </tr>\n",
       "    <tr>\n",
       "      <th>Sơn_Đoòng_Cave</th>\n",
       "      <td> 116012</td>\n",
       "    </tr>\n",
       "    <tr>\n",
       "      <th>The_boy_Jones</th>\n",
       "      <td> 114401</td>\n",
       "    </tr>\n",
       "    <tr>\n",
       "      <th>William_Leonard_Pickard</th>\n",
       "      <td> 113660</td>\n",
       "    </tr>\n",
       "    <tr>\n",
       "      <th>War_pig</th>\n",
       "      <td> 110293</td>\n",
       "    </tr>\n",
       "    <tr>\n",
       "      <th>Hurt_(Nine_Inch_Nails_song)</th>\n",
       "      <td> 103472</td>\n",
       "    </tr>\n",
       "    <tr>\n",
       "      <th>Glass_recycling</th>\n",
       "      <td>  87976</td>\n",
       "    </tr>\n",
       "    <tr>\n",
       "      <th>Assassination_of_Archduke_Franz_Ferdinand_of_Austria</th>\n",
       "      <td>  86420</td>\n",
       "    </tr>\n",
       "  </tbody>\n",
       "</table>\n",
       "<p>10 rows × 1 columns</p>\n",
       "</div>"
      ],
      "text/plain": [
       "                                                           n\n",
       "curr                                                        \n",
       "Johnny_Knoxville                                      198908\n",
       "Peter_Woodcock                                        126259\n",
       "2002_Tampa_plane_crash                                119906\n",
       "Sơn_Đoòng_Cave                                        116012\n",
       "The_boy_Jones                                         114401\n",
       "William_Leonard_Pickard                               113660\n",
       "War_pig                                               110293\n",
       "Hurt_(Nine_Inch_Nails_song)                           103472\n",
       "Glass_recycling                                        87976\n",
       "Assassination_of_Archduke_Franz_Ferdinand_of_Austria   86420\n",
       "\n",
       "[10 rows x 1 columns]"
      ]
     },
     "execution_count": 8,
     "metadata": {},
     "output_type": "execute_result"
    }
   ],
   "source": [
    "df_twitter = df[df['prev'] == 'other-twitter']\n",
    "df_twitter.groupby('curr').sum().sort('n', ascending=False)[:10]"
   ]
  },
  {
   "cell_type": "code",
   "execution_count": 9,
   "metadata": {
    "collapsed": false
   },
   "outputs": [
    {
     "data": {
      "text/html": [
       "<div style=\"max-height:1000px;max-width:1500px;overflow:auto;\">\n",
       "<table border=\"1\" class=\"dataframe\">\n",
       "  <thead>\n",
       "    <tr style=\"text-align: right;\">\n",
       "      <th></th>\n",
       "      <th>n</th>\n",
       "    </tr>\n",
       "    <tr>\n",
       "      <th>curr</th>\n",
       "      <th></th>\n",
       "    </tr>\n",
       "  </thead>\n",
       "  <tbody>\n",
       "    <tr>\n",
       "      <th>2027_Cricket_World_Cup</th>\n",
       "      <td> 6782</td>\n",
       "    </tr>\n",
       "    <tr>\n",
       "      <th>Rethinking</th>\n",
       "      <td> 5279</td>\n",
       "    </tr>\n",
       "    <tr>\n",
       "      <th>Chris_Soules</th>\n",
       "      <td> 5229</td>\n",
       "    </tr>\n",
       "    <tr>\n",
       "      <th>Anna_Lezhneva</th>\n",
       "      <td> 3764</td>\n",
       "    </tr>\n",
       "    <tr>\n",
       "      <th>Jillie_Mack</th>\n",
       "      <td> 3685</td>\n",
       "    </tr>\n",
       "    <tr>\n",
       "      <th>Hera_Pheri_3</th>\n",
       "      <td> 3485</td>\n",
       "    </tr>\n",
       "    <tr>\n",
       "      <th>Shannon_de_Lima</th>\n",
       "      <td> 3422</td>\n",
       "    </tr>\n",
       "    <tr>\n",
       "      <th>Harem_Mate</th>\n",
       "      <td> 3393</td>\n",
       "    </tr>\n",
       "    <tr>\n",
       "      <th>VMI_Cadets_at_New_Market</th>\n",
       "      <td> 3241</td>\n",
       "    </tr>\n",
       "    <tr>\n",
       "      <th>The_Garden_(1977_film)</th>\n",
       "      <td> 3036</td>\n",
       "    </tr>\n",
       "  </tbody>\n",
       "</table>\n",
       "<p>10 rows × 1 columns</p>\n",
       "</div>"
      ],
      "text/plain": [
       "                             n\n",
       "curr                          \n",
       "2027_Cricket_World_Cup    6782\n",
       "Rethinking                5279\n",
       "Chris_Soules              5229\n",
       "Anna_Lezhneva             3764\n",
       "Jillie_Mack               3685\n",
       "Hera_Pheri_3              3485\n",
       "Shannon_de_Lima           3422\n",
       "Harem_Mate                3393\n",
       "VMI_Cadets_at_New_Market  3241\n",
       "The_Garden_(1977_film)    3036\n",
       "\n",
       "[10 rows x 1 columns]"
      ]
     },
     "execution_count": 9,
     "metadata": {},
     "output_type": "execute_result"
    }
   ],
   "source": [
    "df_redlinks = df[df['type'] == 'redlink']\n",
    "df_redlinks.groupby('curr').sum().sort('n', ascending=False)[:10]"
   ]
  },
  {
   "cell_type": "code",
   "execution_count": null,
   "metadata": {
    "collapsed": true
   },
   "outputs": [],
   "source": []
  }
 ],
 "metadata": {
  "kernelspec": {
   "display_name": "Python 2",
   "language": "python",
   "name": "python2"
  },
  "language_info": {
   "codemirror_mode": {
    "name": "ipython",
    "version": 2
   },
   "file_extension": ".py",
   "mimetype": "text/x-python",
   "name": "python",
   "nbconvert_exporter": "python",
   "pygments_lexer": "ipython2",
   "version": "2.7.6"
  }
 },
 "nbformat": 4,
 "nbformat_minor": 0
}
